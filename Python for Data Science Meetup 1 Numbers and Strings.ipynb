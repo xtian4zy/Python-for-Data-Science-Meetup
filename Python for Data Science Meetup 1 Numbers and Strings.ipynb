{
 "cells": [
  {
   "cell_type": "markdown",
   "metadata": {},
   "source": [
    "## Python’s Core Data Types"
   ]
  },
  {
   "cell_type": "markdown",
   "metadata": {},
   "source": [
    "Object type                                  Example literals/creation\n",
    "Numbers                                1234, 3.1415, 3+4j, Decimal, Fraction\n",
    "Strings                                    'spam', \"guido's\", b'a\\x01c'\n",
    "Lists                                          [1, [2, 'three'], 4]\n",
    "Dictionaries                              {'food': 'spam', 'taste': 'yum'}\n",
    "Tuples                                         (1, 'spam', 4, 'U')\n",
    "Files                                        myfile = open('eggs', 'r')\n",
    "Sets                                         set('abc'), {'a', 'b', 'c'}\n",
    "Other core types                                Booleans, types, None\n",
    "Program unit types                            Functions, modules, classes (Part IV, Part V, Part VI)\n",
    "Implementation-related types                  Compiled code, stack tracebacks (Part IV, Part VII)"
   ]
  },
  {
   "cell_type": "markdown",
   "metadata": {},
   "source": [
    "isn’t really complete, because everything we process in Python programs is a\n",
    "kind of object. For instance, when we perform text pattern matching in Python, we\n",
    "create pattern objects, and when we perform network scripting, we use socket objects.\n",
    "These other kinds of objects are generally created by importing and using modules and\n",
    "have behavior all their own.\n",
    "\n",
    "We usually call the other object types in Table 4-1 core data types, though, because they are effectively built into the Python language—that is, there is specific expression syntax for generating most of them. For instance, when you run the following code:"
   ]
  },
  {
   "cell_type": "markdown",
   "metadata": {},
   "source": [
    "#### Numbers\n",
    "Python’s core objects set includes the usual suspects: integers (numbers without a fractional part), floating-point numbers (roughly, numbers with a decimal point in them), and more exotic numeric types (complex numbers with imaginary parts, fixed-precision decimals, rational fractions with numerator and denominator, and fullfeatured sets).\n",
    "\n",
    "Numbers in Python support the normal mathematical operations. For instance, the plus sign (+) performs addition, a star (*) is used for multiplication, and two stars (**) are used for exponentiation:"
   ]
  },
  {
   "cell_type": "code",
   "execution_count": 61,
   "metadata": {
    "scrolled": true
   },
   "outputs": [
    {
     "name": "stdout",
     "output_type": "stream",
     "text": [
      "Exponetial factor  1267650600228229401496703205376\n"
     ]
    }
   ],
   "source": [
    "#print('Integer addition ', 1+ 2) # Integer addition\n",
    "\n",
    "#print('Floating-point multiplication ',1.5 * 1.5) # Floating-point multiplication\n",
    "\n",
    "print('Exponetial factor ',2 ** 100) # 2 to the power 100\n"
   ]
  },
  {
   "cell_type": "markdown",
   "metadata": {},
   "source": [
    "#String Formats for Float Precision\n",
    "* You generally do not want to display a floating point result of a calculation in its raw form, often with an enormous number of digits after the decimal point, like 23.457413902458498. You are likely to prefer rounding it to something like 23.46. There are two approaches."
   ]
  },
  {
   "cell_type": "code",
   "execution_count": 62,
   "metadata": {
    "scrolled": true
   },
   "outputs": [
    {
     "data": {
      "text/plain": [
       "'23.45741'"
      ]
     },
     "execution_count": 62,
     "metadata": {},
     "output_type": "execute_result"
    }
   ],
   "source": [
    "#Formating \n",
    "x = 23.457413902458498\n",
    "s = format(x, '.5f')\n",
    "#s\n",
    "#y = format(x, '.2f')\n",
    "#y\n",
    "\n",
    "s"
   ]
  },
  {
   "cell_type": "code",
   "execution_count": 25,
   "metadata": {
    "scrolled": true
   },
   "outputs": [
    {
     "data": {
      "text/plain": [
       "9.219544457292887"
      ]
     },
     "execution_count": 25,
     "metadata": {},
     "output_type": "execute_result"
    }
   ],
   "source": [
    "#Besides expressions, there are a handful of useful numeric modules that ship with\n",
    "#Python—modules are just packages of additional tools that we import to use:\n",
    "import math\n",
    "math.pi\n",
    "\n",
    "math.sqrt(85)\n"
   ]
  },
  {
   "cell_type": "code",
   "execution_count": 70,
   "metadata": {},
   "outputs": [
    {
     "data": {
      "text/plain": [
       "4"
      ]
     },
     "execution_count": 70,
     "metadata": {},
     "output_type": "execute_result"
    }
   ],
   "source": [
    "#The math module contains more advanced numeric tools as functions, while the\n",
    "#random module performs random number generation and random selections (here, from\n",
    "#a Python list, introduced later in this chapter):\n",
    "import random\n",
    "random.random()\n",
    "\n",
    "random.choice([1, 2, 3, 4])\n"
   ]
  },
  {
   "cell_type": "code",
   "execution_count": 75,
   "metadata": {},
   "outputs": [
    {
     "name": "stdout",
     "output_type": "stream",
     "text": [
      "2000\n"
     ]
    }
   ],
   "source": [
    "num_of_persons = 10\n",
    "amount_per_persons = 200\n",
    "\n",
    "total_donation = num_of_persons * amount_per_persons\n",
    "total_donation"
   ]
  },
  {
   "cell_type": "markdown",
   "metadata": {},
   "source": [
    "## Strings\n",
    "Strings are used to record textual information as well as arbitrary collections of bytes.\n",
    "They are our first example of what we call a sequence in Python—that is, a positionally\n",
    "ordered collection of other objects. Sequences maintain a left-to-right order among the\n",
    "items they contain: their items are stored and fetched by their relative position. Strictly\n",
    "speaking, strings are sequences of one-character strings; other types of sequences include\n",
    "lists and tuples, covered later."
   ]
  },
  {
   "cell_type": "code",
   "execution_count": 83,
   "metadata": {},
   "outputs": [
    {
     "name": "stdout",
     "output_type": "stream",
     "text": [
      "The fourth alphabelt in the string is  i\n"
     ]
    }
   ],
   "source": [
    "#Sequence Operations\n",
    "#As sequences, strings support operations that assume a positional ordering among\n",
    "#items. For example, if we have a four-character string, we can verify its length with the\n",
    "#built-in len function and fetch its components with indexing expressions:\n",
    "S = 'operations'\n",
    "#len(S) # Length\n",
    "\n",
    "#S[5] # The first item in S, indexing by zero-based position\n",
    "\n",
    "print('The fourth alphabelt in the string is ', S[-4]) # The second item from the left\n",
    "\n",
    "#In Python, indexes are coded as offsets from the front, and so start from 0: the first item\n",
    "#is at index 0, the second is at index 1, and so on.\n",
    "\n",
    "#For the purposes of this chapter, it’s enough to know that we need to assign an object to a variable in order\n",
    "#to save it for later use."
   ]
  },
  {
   "cell_type": "code",
   "execution_count": null,
   "metadata": {},
   "outputs": [],
   "source": [
    "#index backward, from the end—positive indexes count from the left, and negative indexes count back from the right:\n",
    "\n",
    "S[-1] # The last item from the end in S\n",
    "\n",
    "S[-2] # The second to last item from the end\n",
    "\n",
    "S[len(S)-1] # Negative indexing, the hard way"
   ]
  },
  {
   "cell_type": "code",
   "execution_count": 90,
   "metadata": {},
   "outputs": [
    {
     "data": {
      "text/plain": [
       "'operations'"
      ]
     },
     "execution_count": 90,
     "metadata": {},
     "output_type": "execute_result"
    }
   ],
   "source": [
    "#Slicing a way to extract an entire section (slice) in a single step.\n",
    "\n",
    "#o   pe    rations\n",
    "S # A 10-character string\n",
    "\n",
    "S[:] # Slice of S from offsets 1 through 2 (not 3)\n",
    "\n",
    "#Their general form, X[I:J], means “give me everything in X from offset I up to but not including offset J.”"
   ]
  },
  {
   "cell_type": "markdown",
   "metadata": {},
   "source": [
    "common usage variations:\n",
    "S[1:] # Everything past the first (1:len(S))\n",
    "\n",
    "S # S itself hasn't changed\n",
    "\n",
    "S[0:3] # Everything but the last\n",
    "\n",
    "S[:3] # Same as S[0:3]\n",
    "\n",
    "S[:-1] # Everything but the last again, but simpler (0:-1)\n",
    "\n",
    "S[:] # All of S as a top-level copy (0:len(S))"
   ]
  },
  {
   "cell_type": "code",
   "execution_count": 97,
   "metadata": {},
   "outputs": [
    {
     "data": {
      "text/plain": [
       "'operationsoperationsoperationsoperationsoperationsoperationsoperationsoperations'"
      ]
     },
     "execution_count": 97,
     "metadata": {},
     "output_type": "execute_result"
    }
   ],
   "source": [
    "#Concatenation of Strings\n",
    "#strings also support concatenation with the plus sign (joining two\n",
    "#strings into a new string) and repetition (making a new string by repeating another)\n",
    "\n",
    "S \n",
    "#S +  'xyz' # Concatenation\n",
    "\n",
    "S * 8 # Repetition"
   ]
  },
  {
   "cell_type": "markdown",
   "metadata": {},
   "source": [
    "#### Immutability\n",
    "Notice that in the prior examples, we were not changing the original string with any of\n",
    "the operations we ran on it. Every string operation is defined to produce a new string\n",
    "as its result, because strings are immutable in Python—they cannot be changed in-place\n",
    "after they are created. For example, you can’t change a string by assigning to one of its\n",
    "positions, but you can always build a new one and assign it to the same name. Because\n",
    "Python cleans up old objects as you go (as you’ll see later), this isn’t as inefficient as it\n",
    "may sound."
   ]
  },
  {
   "cell_type": "code",
   "execution_count": 99,
   "metadata": {},
   "outputs": [
    {
     "data": {
      "text/plain": [
       "'zpam'"
      ]
     },
     "execution_count": 99,
     "metadata": {},
     "output_type": "execute_result"
    }
   ],
   "source": [
    "S = 'Spam'\n",
    "#S[0] = 'z' # Immutable objects cannot be changed\n",
    "\n",
    "\n",
    "S = 'z' + S[1:] # But we can run expressions to make new objects\n",
    "S"
   ]
  },
  {
   "cell_type": "markdown",
   "metadata": {},
   "source": [
    "##### Type-Specific Methods\n",
    "Every string operation we’ve studied so far is really a sequence operation—that is, these operations will work on other sequences in Python as well, including lists and tuples. In addition to generic sequence operations, though, strings also have operations all their own, available as methods—functions attached to the object, which are triggered with a call expression."
   ]
  },
  {
   "cell_type": "markdown",
   "metadata": {},
   "source": [
    "For example, the string find method is the basic substring search operation (it returns the offset of the passed-in substring, or −1 if it is not present), and the string replace method performs global searches and replacements:\n",
    "\n",
    "S.find('pa') # Find the offset of a substring\n",
    "\n",
    "S\n",
    "\n",
    "S.replace('pa', 'XYZ') # Replace occurrences of a substring with another\n",
    "\n",
    "Again, despite the names of these string methods, we are not changing the original strings here, but creating new strings as the results—because strings are immutable, we have to do it this way. String methods are the first line of text-processing tools in\n",
    "Python. Other methods split a string into substrings on a delimiter (handy as a simple form of parsing), perform case conversions, test the content of the string (digits, letters, and so on), and strip whitespace characters off the ends of the string:"
   ]
  },
  {
   "cell_type": "code",
   "execution_count": 106,
   "metadata": {},
   "outputs": [
    {
     "data": {
      "text/plain": [
       "'opebits'"
      ]
     },
     "execution_count": 106,
     "metadata": {},
     "output_type": "execute_result"
    }
   ],
   "source": [
    "x = 'operations'\n",
    "x.find('ion')\n",
    "\n",
    "x.replace('rations', 'bits')"
   ]
  },
  {
   "cell_type": "code",
   "execution_count": 32,
   "metadata": {},
   "outputs": [
    {
     "data": {
      "text/plain": [
       "'aaa,bbb,ccccc,dd'"
      ]
     },
     "execution_count": 32,
     "metadata": {},
     "output_type": "execute_result"
    }
   ],
   "source": [
    "line = 'aaa,bbb,ccccc,dd'\n",
    "line.split(',')  # Split on a delimiter into a list of substrings\n",
    "\n",
    " # Upper- and lowercase conversions\n",
    "\n",
    "S.isalpha() # Content tests: isalpha, isdigit, etc.\n",
    "\n",
    "line = 'aaa,bbb,ccccc,dd\\n'\n",
    "\n",
    "line = line.rstrip() # Remove whitespace characters on the right side\n",
    "\n",
    "line"
   ]
  },
  {
   "cell_type": "code",
   "execution_count": 109,
   "metadata": {},
   "outputs": [
    {
     "data": {
      "text/plain": [
       "True"
      ]
     },
     "execution_count": 109,
     "metadata": {},
     "output_type": "execute_result"
    }
   ],
   "source": [
    "S = 'spam'\n",
    "S.isalpha() "
   ]
  },
  {
   "cell_type": "code",
   "execution_count": 33,
   "metadata": {
    "scrolled": true
   },
   "outputs": [
    {
     "data": {
      "text/plain": [
       "'spam, eggs, and SPAM!'"
      ]
     },
     "execution_count": 33,
     "metadata": {},
     "output_type": "execute_result"
    }
   ],
   "source": [
    "#Strings also support an advanced substitution operation known as formatting, available \n",
    "#as both an expression (the original) and a string method call (new in 2.6 and 3.0):\n",
    "'%s, eggs, and %s' % ('spam', 'SPAM!') # Formatting expression (all)\n",
    "'spam, eggs, and SPAM!'\n",
    "\n",
    "'{0}, eggs, and {1}'.format('spam', 'SPAM!') # Formatting method (2.6, 3.0)\n"
   ]
  },
  {
   "cell_type": "markdown",
   "metadata": {},
   "source": [
    "### Type Casting\n",
    "There may be times when you want to specify a type on to a variable. This can be done with casting.\n",
    "* int() - constructs an integer number from an integer literal, a float literal (by rounding down to the previous whole number), or a string literal (providing the string represents a whole number)\n",
    "* float() - constructs a float number from an integer literal, a float literal or a string literal (providing the string represents a float or an integer)\n",
    "* str() - constructs a string from a wide variety of data types, including strings, integer literals and float literals"
   ]
  },
  {
   "cell_type": "code",
   "execution_count": 113,
   "metadata": {},
   "outputs": [
    {
     "data": {
      "text/plain": [
       "float"
      ]
     },
     "execution_count": 113,
     "metadata": {},
     "output_type": "execute_result"
    }
   ],
   "source": [
    "score = \"234\"\n",
    "unit = 2\n",
    "\n",
    "score = float(score)\n",
    "type(score)\n",
    "\n",
    "#gp = score/ unit\n",
    "#gp"
   ]
  },
  {
   "cell_type": "code",
   "execution_count": 115,
   "metadata": {},
   "outputs": [
    {
     "name": "stdout",
     "output_type": "stream",
     "text": [
      "18\n"
     ]
    }
   ],
   "source": [
    "y = int(2.8)\n",
    "\n",
    "\n",
    "s = \"10010\"\n",
    "c = int(s) \n",
    "\n",
    "# printing string converting to int base 2 \n",
    "c = int(s,2)\n",
    "\n",
    "# printing string converting to float \n",
    "#e = float(s) \n",
    "#print (\"After converting to float : \", end=\"\") \n",
    "print (c)"
   ]
  },
  {
   "cell_type": "code",
   "execution_count": 118,
   "metadata": {},
   "outputs": [
    {
     "name": "stdout",
     "output_type": "stream",
     "text": [
      "Please enter your score: 60\n",
      "YOur is , 60\n"
     ]
    }
   ],
   "source": [
    "#Getting user input\n",
    "name = 'Chris'\n",
    "#print('Enter your name:')\n",
    "#name = input()\n",
    "#print('Hello, ' + name)\n",
    "\n",
    "name = input('Please enter your score: ')\n",
    "print('YOur is , ' + name)\n",
    "\n",
    "#input(prompt)"
   ]
  },
  {
   "cell_type": "markdown",
   "metadata": {},
   "source": [
    "### Sample Exercise\n",
    "Write a program, discount.py, that prompts the user for an original price and for a discount percentage and prints out the new price to the nearest cent.\n",
    "\n",
    "price = 2.89\n",
    "discount = 20\n",
    "\n"
   ]
  },
  {
   "cell_type": "code",
   "execution_count": 123,
   "metadata": {},
   "outputs": [
    {
     "name": "stdout",
     "output_type": "stream",
     "text": [
      "Enter Original Price: 2.89\n",
      "Enter discount amount: 20\n"
     ]
    },
    {
     "data": {
      "text/plain": [
       "'2.3'"
      ]
     },
     "execution_count": 123,
     "metadata": {},
     "output_type": "execute_result"
    }
   ],
   "source": [
    "price = float(input('Enter Original Price: '))\n",
    "discount = int(input('Enter discount amount: '))\n",
    "\n",
    "new_amount = (1 - discount/100) * price\n",
    "\n",
    "new_amount = format(new_amount, '.1f')\n",
    "new_amount"
   ]
  },
  {
   "cell_type": "markdown",
   "metadata": {},
   "source": [
    "### Sample Exercise\n",
    "Write a program that convert temp. \n",
    "\n",
    "Fahrenheit to Celsius formula:\n",
    "\n",
    "(°F - 32) x 5/9 = °C or in plain english, First subtract 32, then multiply by 5,\n",
    "then divide by 9.\n",
    "\n",
    "Celsius to Fahrenheit formula:\n",
    "\n",
    "(°C × 9/5) + 32 = °F or in plain English, Multiple by 9, then divide by 5, then\n",
    "add 32."
   ]
  },
  {
   "cell_type": "markdown",
   "metadata": {},
   "source": [
    "### Variable assignment\n",
    "Assign the values 4, 39, 'men', 'came' to variables"
   ]
  },
  {
   "cell_type": "markdown",
   "metadata": {},
   "source": [
    "### String Manipulation\n",
    "* What is the length of the string 'assignment'\n",
    "* Convert the string 'assignment' to all cap.\n",
    "* Slice out the string 'sign' from assignment\n",
    "* is the string 'ment' in assignment? and what is the position?"
   ]
  }
 ],
 "metadata": {
  "kernelspec": {
   "display_name": "Python 3",
   "language": "python",
   "name": "python3"
  },
  "language_info": {
   "codemirror_mode": {
    "name": "ipython",
    "version": 3
   },
   "file_extension": ".py",
   "mimetype": "text/x-python",
   "name": "python",
   "nbconvert_exporter": "python",
   "pygments_lexer": "ipython3",
   "version": "3.7.0"
  }
 },
 "nbformat": 4,
 "nbformat_minor": 2
}
